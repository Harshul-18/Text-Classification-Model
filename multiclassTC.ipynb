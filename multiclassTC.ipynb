{
  "cells": [
    {
      "cell_type": "code",
      "execution_count": null,
      "id": "b8556c05-12e2-48ef-bd47-873cc39f4da7",
      "metadata": {
        "execution": {
          "iopub.execute_input": "2022-11-04T08:37:42.779Z",
          "iopub.status.busy": "2022-11-04T08:37:42.754Z",
          "iopub.status.idle": "2022-11-04T08:37:48.620Z",
          "shell.execute_reply": "2022-11-04T08:37:48.697Z"
        }
      },
      "outputs": [],
      "source": [
        "try:\n",
        "    import json\n",
        "    import os\n",
        "    \n",
        "    import pandas as  pd\n",
        "    import spacy\n",
        "    \n",
        "    import seaborn as sns\n",
        "    import string\n",
        "\n",
        "    from tqdm import tqdm\n",
        "    from textblob import TextBlob\n",
        "    \n",
        "    from nltk.corpus import stopwords\n",
        "    import nltk\n",
        "    from nltk.stem import WordNetLemmatizer\n",
        "    from nltk import word_tokenize\n",
        "    from nltk.corpus import stopwords\n",
        "    from nltk.stem import PorterStemmer\n",
        "    import re\n",
        "    \n",
        "    import matplotlib.pyplot as plt\n",
        "    \n",
        "    from sklearn.model_selection import train_test_split\n",
        "    from sklearn.preprocessing import LabelEncoder\n",
        "    from sklearn.feature_extraction.text import CountVectorizer\n",
        "    from sklearn.feature_extraction.text import TfidfTransformer\n",
        "    from sklearn.naive_bayes import MultinomialNB\n",
        "    from sklearn.pipeline import Pipeline\n",
        "    from sklearn.feature_extraction.text import TfidfVectorizer\n",
        "    from sklearn.pipeline import Pipeline\n",
        "    from sklearn.metrics import classification_report, confusion_matrix\n",
        "    from sklearn.model_selection import train_test_split\n",
        "    from sklearn.feature_selection import SelectKBest, chi2\n",
        "    from sklearn.ensemble import RandomForestClassifier\n",
        "    \n",
        "    \n",
        "    from sklearn.preprocessing import FunctionTransformer\n",
        "    from sklearn.base import BaseEstimator, TransformerMixin\n",
        "    from sklearn.pipeline import FeatureUnion\n",
        "    from sklearn.feature_extraction import DictVectorizer\n",
        "    \n",
        "    import swifter\n",
        "\n",
        "    import numpy as np\n",
        "    \n",
        "    tqdm.pandas()\n",
        "except Exception as e:\n",
        "    print(\"Error : {} \".format(e))"
      ]
    },
    {
      "cell_type": "code",
      "execution_count": null,
      "id": "30ab96ec-a324-47c3-9e81-4fc371e9d8b8",
      "metadata": {
        "execution": {
          "iopub.execute_input": "2022-11-04T08:37:49.746Z",
          "iopub.status.busy": "2022-11-04T08:37:49.723Z",
          "iopub.status.idle": "2022-11-04T08:37:49.995Z",
          "shell.execute_reply": "2022-11-04T08:37:50.032Z"
        }
      },
      "outputs": [],
      "source": [
        "import nltk\n",
        "nltk.download('punkt')\n",
        "nltk.download('stopwords')\n",
        "nltk.download('wordnet')\n",
        "nltk.download('averaged_perceptron_tagger')"
      ]
    },
    {
      "cell_type": "code",
      "execution_count": null,
      "id": "fe440370-ffe5-4fea-856f-14b409f4ba15",
      "metadata": {
        "execution": {
          "iopub.execute_input": "2022-11-04T09:09:42.816Z",
          "iopub.status.busy": "2022-11-04T09:09:42.804Z",
          "iopub.status.idle": "2022-11-04T09:09:44.137Z",
          "shell.execute_reply": "2022-11-04T09:09:44.158Z"
        }
      },
      "outputs": [],
      "source": [
        "csv_path = input(\"Enter the csv file path: \")\n",
        "\n",
        "df = pd.read_csv(\"\", low_memory=False)\n",
        "\n",
        "df = df.astype(str)\n",
        "\n",
        "df = df.sample(frac=1).reset_index(drop=True)"
      ]
    },
    {
      "cell_type": "code",
      "execution_count": null,
      "id": "a443dec4-d9c2-4759-8b86-d00c6d97fa32",
      "metadata": {
        "collapsed": true,
        "execution": {
          "iopub.execute_input": "2022-11-04T09:09:45.400Z",
          "iopub.status.busy": "2022-11-04T09:09:45.391Z",
          "iopub.status.idle": "2022-11-04T09:09:46.494Z",
          "shell.execute_reply": "2022-11-04T09:09:46.514Z"
        },
        "jupyter": {
          "outputs_hidden": false,
          "source_hidden": false
        },
        "nteract": {
          "transient": {
            "deleting": false
          }
        }
      },
      "outputs": [],
      "source": [
        "df = df[[\"text\", \"category\"]]\n",
        "\n",
        "print(\"Number of duplicates:\", df.duplicated().sum())\n",
        "\n",
        "df.drop_duplicates(keep=\"first\", inplace=True)\n",
        "\n",
        "print(\"Number of duplicates:\", df.duplicated().sum())"
      ]
    },
    {
      "cell_type": "code",
      "execution_count": null,
      "id": "0a549236-a6b3-4d66-baa5-0b68dce8a926",
      "metadata": {
        "collapsed": true,
        "execution": {
          "iopub.execute_input": "2022-11-04T09:09:49.503Z",
          "iopub.status.busy": "2022-11-04T09:09:49.494Z",
          "iopub.status.idle": "2022-11-04T09:09:49.545Z",
          "shell.execute_reply": "2022-11-04T09:09:49.568Z"
        },
        "jupyter": {
          "outputs_hidden": false,
          "source_hidden": false
        },
        "nteract": {
          "transient": {
            "deleting": false
          }
        }
      },
      "outputs": [],
      "source": [
        "print(\"The number of null entries are:\", df.isnull().sum())\n",
        "\n",
        "df = df.dropna()\n",
        "\n",
        "print(\"The number of null entries are:\", df.isnull().sum())"
      ]
    },
    {
      "cell_type": "code",
      "execution_count": null,
      "id": "62b7d073-123c-467e-9c48-928f2724a729",
      "metadata": {
        "execution": {
          "iopub.execute_input": "2022-11-04T09:09:51.023Z",
          "iopub.status.busy": "2022-11-04T09:09:51.014Z",
          "iopub.status.idle": "2022-11-04T09:09:51.076Z",
          "shell.execute_reply": "2022-11-04T09:09:51.082Z"
        }
      },
      "outputs": [],
      "source": [
        "df['category'].value_counts().plot( kind='bar', figsize=(15,10))"
      ]
    },
    {
      "cell_type": "code",
      "execution_count": null,
      "id": "983b1169-a03f-431a-b224-ec0bdd0d635b",
      "metadata": {
        "execution": {
          "iopub.execute_input": "2022-11-04T09:09:54.237Z",
          "iopub.status.busy": "2022-11-04T09:09:54.226Z",
          "iopub.status.idle": "2022-11-04T09:09:54.250Z",
          "shell.execute_reply": "2022-11-04T09:09:54.255Z"
        }
      },
      "outputs": [],
      "source": [
        "print(\"The shape of the dataset is\", df.shape)"
      ]
    },
    {
      "cell_type": "code",
      "execution_count": null,
      "id": "402f494d-b390-4c34-8a7f-dc282619506e",
      "metadata": {
        "execution": {
          "iopub.execute_input": "2022-11-04T09:09:55.961Z",
          "iopub.status.busy": "2022-11-04T09:09:55.953Z",
          "iopub.status.idle": "2022-11-04T09:09:55.975Z",
          "shell.execute_reply": "2022-11-04T09:09:56.007Z"
        }
      },
      "outputs": [],
      "source": [
        "df.describe()"
      ]
    },
    {
      "cell_type": "code",
      "execution_count": null,
      "id": "bc5111b6-0e6a-47bd-8b7e-9653ccbf473c",
      "metadata": {
        "execution": {
          "iopub.execute_input": "2022-11-04T09:09:57.709Z",
          "iopub.status.busy": "2022-11-04T09:09:57.703Z",
          "iopub.status.idle": "2022-11-04T09:09:57.721Z",
          "shell.execute_reply": "2022-11-04T09:09:57.734Z"
        }
      },
      "outputs": [],
      "source": [
        "df['category'].unique()"
      ]
    },
    {
      "cell_type": "code",
      "execution_count": null,
      "id": "5ff1ab3f-7395-4622-95af-ef39ef005124",
      "metadata": {
        "execution": {
          "iopub.execute_input": "2022-11-04T09:09:58.529Z",
          "iopub.status.busy": "2022-11-04T09:09:58.522Z",
          "iopub.status.idle": "2022-11-04T09:09:58.539Z",
          "shell.execute_reply": "2022-11-04T09:09:58.545Z"
        }
      },
      "outputs": [],
      "source": [
        "stop_words_ = set(stopwords.words('english'))\n",
        "wn = WordNetLemmatizer()\n",
        "\n",
        "# List of your own stopwords\n",
        "my_sw = ['make', 'amp',  'news','new' ,'time', 'u','s', 'photos',  'get', 'say']\n",
        "\n",
        "def black_txt(token):\n",
        "    return  token not in stop_words_ and token not in list(string.punctuation)  and len(token)>2 and token not in my_sw\n",
        "  \n",
        "def clean_txt(text):\n",
        "    clean_text = []\n",
        "    clean_text2 = []\n",
        "    text = re.sub(\"'\", \"\",text)\n",
        "    text=re.sub(\"(\\\\d|\\\\W)+\",\" \",text)    \n",
        "    clean_text = [ wn.lemmatize(word, pos=\"v\") for word in word_tokenize(text.lower()) if black_txt(word)]\n",
        "    clean_text2 = [word for word in clean_text if black_txt(word)]\n",
        "    return \" \".join(clean_text2)"
      ]
    },
    {
      "cell_type": "code",
      "execution_count": null,
      "id": "5bf3107a-9fc1-4003-8484-8250d3bebb7a",
      "metadata": {
        "execution": {
          "iopub.execute_input": "2022-11-04T09:09:58.988Z",
          "iopub.status.busy": "2022-11-04T09:09:58.982Z",
          "iopub.status.idle": "2022-11-04T09:09:59.000Z",
          "shell.execute_reply": "2022-11-04T09:09:59.006Z"
        }
      },
      "outputs": [],
      "source": [
        "def subj_txt(text):\n",
        "    return  TextBlob(text).sentiment[1]\n",
        "\n",
        "def polarity_txt(text):\n",
        "    return TextBlob(text).sentiment[0]\n",
        "\n",
        "def len_text(text):\n",
        "    if len(text.split())>0:\n",
        "         return len(set(clean_txt(text).split()))/ len(text.split())\n",
        "    else:\n",
        "         return 0"
      ]
    },
    {
      "cell_type": "code",
      "execution_count": null,
      "id": "2b184e10-6791-4fec-be2a-72ee93b5ed74",
      "metadata": {
        "execution": {
          "iopub.execute_input": "2022-11-04T09:09:59.758Z",
          "iopub.status.busy": "2022-11-04T09:09:59.751Z",
          "iopub.status.idle": "2022-11-04T09:12:22.907Z",
          "shell.execute_reply": "2022-11-04T09:12:23.133Z"
        }
      },
      "outputs": [],
      "source": [
        "df['text'] = df['text'].swifter.apply(clean_txt)\n",
        "df['polarity'] = df['text'].swifter.apply(polarity_txt)\n",
        "df['subjectivity'] = df['text'].swifter.apply(subj_txt)\n",
        "df['len'] = df['text'].swifter.apply(lambda x: len(x))"
      ]
    },
    {
      "cell_type": "code",
      "execution_count": null,
      "id": "12eff34b-7716-477d-a2a9-7598cf9b15aa",
      "metadata": {
        "execution": {
          "iopub.execute_input": "2022-11-04T09:12:23.026Z",
          "iopub.status.busy": "2022-11-04T09:12:23.020Z",
          "iopub.status.idle": "2022-11-04T09:12:23.040Z",
          "shell.execute_reply": "2022-11-04T09:12:23.144Z"
        }
      },
      "outputs": [],
      "source": [
        "X = df[['text', 'polarity', 'subjectivity','len']]\n",
        "y = df['category']\n",
        "\n",
        "encoder = LabelEncoder()\n",
        "y = encoder.fit_transform(y)\n",
        "\n",
        "x_train, x_test, y_train, y_test = train_test_split(X, y, test_size=0.1, stratify=y)\n",
        "v = dict(zip(list(y), df['category'].to_list()))"
      ]
    },
    {
      "cell_type": "code",
      "execution_count": null,
      "id": "76e15ed0-8b32-42ae-adfd-bb28ea781507",
      "metadata": {
        "execution": {
          "iopub.execute_input": "2022-11-04T09:12:23.083Z",
          "iopub.status.busy": "2022-11-04T09:12:23.076Z",
          "iopub.status.idle": "2022-11-04T09:12:23.092Z",
          "shell.execute_reply": "2022-11-04T09:12:23.189Z"
        }
      },
      "outputs": [],
      "source": [
        "text_clf = Pipeline([\n",
        "    ('vect', CountVectorizer(analyzer=\"word\", stop_words=\"english\")),\n",
        "    ('tfidf', TfidfTransformer(use_idf=True)),\n",
        "    ('chi',  SelectKBest(chi2, k=1200)),\n",
        "    ('clf', RandomForestClassifier())\n",
        "])"
      ]
    },
    {
      "cell_type": "code",
      "execution_count": null,
      "id": "2e25fdde-8ac0-44cc-99ec-c33b860e4cd8",
      "metadata": {
        "execution": {
          "iopub.execute_input": "2022-11-04T09:12:23.107Z",
          "iopub.status.busy": "2022-11-04T09:12:23.101Z",
          "iopub.status.idle": "2022-11-04T09:13:12.449Z",
          "shell.execute_reply": "2022-11-04T09:13:12.907Z"
        }
      },
      "outputs": [],
      "source": [
        "text_clf.fit(x_train['text'].to_list(), list(y_train))"
      ]
    },
    {
      "cell_type": "code",
      "execution_count": null,
      "id": "d30f661c-c5cb-40ea-b869-4d491e4a2253",
      "metadata": {
        "execution": {
          "iopub.execute_input": "2022-11-04T09:14:26.661Z",
          "iopub.status.busy": "2022-11-04T09:14:26.654Z",
          "iopub.status.idle": "2022-11-04T09:14:26.672Z",
          "shell.execute_reply": "2022-11-04T09:14:26.678Z"
        }
      },
      "outputs": [],
      "source": [
        "X_TEST = x_test['text'].to_list()\n",
        "Y_TEST = list(y_test)"
      ]
    },
    {
      "cell_type": "code",
      "execution_count": null,
      "id": "317a4985-a402-4b2e-87c9-48aa26f9435b",
      "metadata": {
        "execution": {
          "iopub.execute_input": "2022-11-04T09:14:27.257Z",
          "iopub.status.busy": "2022-11-04T09:14:27.231Z",
          "iopub.status.idle": "2022-11-04T09:14:28.014Z",
          "shell.execute_reply": "2022-11-04T09:14:28.020Z"
        }
      },
      "outputs": [],
      "source": [
        "predicted = text_clf.predict(X_TEST)"
      ]
    },
    {
      "cell_type": "code",
      "execution_count": null,
      "id": "00e98e97-436d-4437-a125-95b0d9f8e98f",
      "metadata": {
        "execution": {
          "iopub.execute_input": "2022-11-04T09:14:28.079Z",
          "iopub.status.busy": "2022-11-04T09:14:28.073Z",
          "iopub.status.idle": "2022-11-04T09:14:28.099Z",
          "shell.execute_reply": "2022-11-04T09:14:28.105Z"
        }
      },
      "outputs": [],
      "source": [
        "c = 0\n",
        "\n",
        "for dec, category in zip(X_TEST, predicted):\n",
        "    \n",
        "    if c == 2:break\n",
        "    \n",
        "    print(\"-\"*55)\n",
        "    print(dec)\n",
        "    print(v[category])\n",
        "    print(\"-\"*55)\n",
        "\n",
        "    c = c + 1 "
      ]
    },
    {
      "cell_type": "code",
      "execution_count": null,
      "id": "9ffd1ad5-6776-4614-ba5f-aafd496eb099",
      "metadata": {
        "execution": {
          "iopub.execute_input": "2022-11-04T09:14:40.692Z",
          "iopub.status.busy": "2022-11-04T09:14:40.685Z",
          "iopub.status.idle": "2022-11-04T09:14:40.769Z",
          "shell.execute_reply": "2022-11-04T09:14:40.775Z"
        }
      },
      "outputs": [],
      "source": [
        "print(\"Accuracy:\", np.mean(predicted == Y_TEST))"
      ]
    },
    {
      "cell_type": "code",
      "execution_count": null,
      "id": "97414f58-9ba1-44eb-9b5c-839b9a57a31f",
      "metadata": {
        "execution": {
          "iopub.execute_input": "2022-11-04T09:14:43.089Z",
          "iopub.status.busy": "2022-11-04T09:14:43.080Z",
          "iopub.status.idle": "2022-11-04T09:14:43.104Z",
          "shell.execute_reply": "2022-11-04T09:14:43.121Z"
        }
      },
      "outputs": [],
      "source": [
        "title_plus_des = [\"Text for prediction\"]\n",
        "predicted = text_clf.predict(title_plus_des)\n",
        "v, v[predicted[0]]"
      ]
    },
    {
      "cell_type": "code",
      "execution_count": null,
      "id": "687db936-8dec-407c-b676-d67fa3649fa3",
      "metadata": {
        "execution": {
          "iopub.execute_input": "2022-11-04T09:14:44.165Z",
          "iopub.status.busy": "2022-11-04T09:14:44.156Z",
          "iopub.status.idle": "2022-11-04T09:14:44.350Z",
          "shell.execute_reply": "2022-11-04T09:14:44.361Z"
        }
      },
      "outputs": [],
      "source": [
        "import pickle\n",
        "with open('models/model_1.pkl','wb') as f:\n",
        "    pickle.dump(text_clf,f)"
      ]
    },
    {
      "cell_type": "code",
      "execution_count": null,
      "id": "4462f0ed-7c36-409d-846f-79c9b7874c47",
      "metadata": {
        "execution": {
          "iopub.execute_input": "2022-11-04T09:14:46.561Z",
          "iopub.status.busy": "2022-11-04T09:14:46.546Z",
          "iopub.status.idle": "2022-11-04T09:14:46.615Z",
          "shell.execute_reply": "2022-11-04T09:14:46.621Z"
        },
        "tags": []
      },
      "outputs": [],
      "source": [
        "import pickle\n",
        "with open('models/model_1.pkl', 'rb') as f:\n",
        "    clf2 = pickle.load(f)"
      ]
    },
    {
      "cell_type": "code",
      "execution_count": null,
      "id": "c7a8fa8c-511c-43e4-a46e-cff51a1eb1de",
      "metadata": {
        "execution": {
          "iopub.execute_input": "2022-11-04T09:15:01.106Z",
          "iopub.status.busy": "2022-11-04T09:15:01.098Z",
          "iopub.status.idle": "2022-11-04T09:15:01.117Z",
          "shell.execute_reply": "2022-11-04T09:15:01.130Z"
        }
      },
      "outputs": [],
      "source": [
        "text = [\"Text for prediction\"]\n",
        "predicted = clf2.predict_proba(text)\n",
        "print(predicted[0])\n",
        "v[clf2.predict(text)[0]]"
      ]
    }
  ],
  "metadata": {
    "kernelspec": {
      "display_name": "Python 3.10.8 64-bit",
      "language": "python",
      "name": "python3"
    },
    "language_info": {
      "codemirror_mode": {
        "name": "ipython",
        "version": 3
      },
      "file_extension": ".py",
      "mimetype": "text/x-python",
      "name": "python",
      "nbconvert_exporter": "python",
      "pygments_lexer": "ipython3",
      "version": "3.10.8"
    },
    "nteract": {
      "version": "0.28.0"
    },
    "vscode": {
      "interpreter": {
        "hash": "b0fa6594d8f4cbf19f97940f81e996739fb7646882a419484c72d19e05852a7e"
      }
    }
  },
  "nbformat": 4,
  "nbformat_minor": 5
}
